{
 "cells": [
  {
   "cell_type": "markdown",
   "metadata": {},
   "source": [
    "# Practice Questions \n",
    "\n",
    "## 1. Write a Python program to find the sum of all even numbers from 1 to 100 using a loop."
   ]
  },
  {
   "cell_type": "code",
   "execution_count": 2,
   "metadata": {},
   "outputs": [],
   "source": [
    "even = 0\n",
    "\n",
    "for i in range (1,101):\n",
    "    if(i%2==0):\n",
    "        even = even+i\n",
    "         "
   ]
  },
  {
   "cell_type": "markdown",
   "metadata": {},
   "source": [
    "## Printing The Result\n",
    "\n",
    "\n"
   ]
  },
  {
   "cell_type": "code",
   "execution_count": 3,
   "metadata": {},
   "outputs": [
    {
     "name": "stdout",
     "output_type": "stream",
     "text": [
      "The Sum Of All Even Numbers  are  2550\n"
     ]
    }
   ],
   "source": [
    "print(\"The Sum Of All Even Numbers  are \",even)"
   ]
  },
  {
   "cell_type": "markdown",
   "metadata": {},
   "source": [
    "## Question2 Create a program that checks if a given number is prime or not using a loop and conditional statements."
   ]
  },
  {
   "cell_type": "code",
   "execution_count": 13,
   "metadata": {},
   "outputs": [
    {
     "name": "stdout",
     "output_type": "stream",
     "text": [
      "It's Not A Prime Number\n"
     ]
    }
   ],
   "source": [
    "number = 12\n",
    "is_prime = True  \n",
    "\n",
    "if number <= 1:\n",
    "    is_prime = False\n",
    "\n",
    "for i in range(2, number):\n",
    "    if number % i == 0:\n",
    "        is_prime = False\n",
    "        break\n",
    "\n",
    "if is_prime:\n",
    "    print('The Number is Prime')\n",
    "else:\n",
    "    print('Its Not A Prime Number')\n",
    "\n",
    "       "
   ]
  },
  {
   "cell_type": "markdown",
   "metadata": {},
   "source": [
    "## Write a function that takes a list of numbers and returns a new list with only the even numbers."
   ]
  },
  {
   "cell_type": "code",
   "execution_count": 3,
   "metadata": {},
   "outputs": [
    {
     "name": "stdout",
     "output_type": "stream",
     "text": [
      "Even numbers:\n",
      "[20, 40, 60]\n"
     ]
    }
   ],
   "source": [
    "def even(input_list):\n",
    "    mylist = []\n",
    "    for n in input_list:\n",
    "        if n % 2 == 0:\n",
    "            mylist.append(n)\n",
    "    return mylist\n",
    "\n",
    "input_list = [20, 25, 40, 60]\n",
    "result = even(input_list)\n",
    "\n",
    "print(\"Even numbers:\")\n",
    "print(result)\n"
   ]
  },
  {
   "cell_type": "markdown",
   "metadata": {},
   "source": [
    "##  Create a dictionary representing a student's grades in different subjects. Calculate the average grade"
   ]
  },
  {
   "cell_type": "code",
   "execution_count": 21,
   "metadata": {},
   "outputs": [
    {
     "name": "stdout",
     "output_type": "stream",
     "text": [
      "Student Grades:\n",
      "English: 60\n",
      "Math: 80\n",
      "Science: 100\n",
      "Data Science: 120\n",
      "Stats: 110\n",
      "Average Grade: 94.0\n"
     ]
    }
   ],
   "source": [
    "student = {'English': 60,\n",
    "           'Math': 80,\n",
    "           'Science': 100,\n",
    "           'Data Science': 120,\n",
    "           'Stats': 110\n",
    "           }\n",
    "\n",
    "Tgrades = sum(student.values())\n",
    "tSubjects = len(student)\n",
    "Average = Tgrades / tSubjects\n",
    "\n",
    "print(\"Student Grades:\")\n",
    "for subject, grades in student.items():\n",
    "    print(f\"{subject}: {grades}\")\n",
    "\n",
    "print(f\"Average Grade: {Average}\")\n",
    "\n"
   ]
  },
  {
   "cell_type": "markdown",
   "metadata": {},
   "source": [
    "##  Write a program that reverses a given string without using any built-in reverse function.\n"
   ]
  },
  {
   "cell_type": "code",
   "execution_count": 34,
   "metadata": {},
   "outputs": [
    {
     "name": "stdout",
     "output_type": "stream",
     "text": [
      "Reversed string: ahlaT\n"
     ]
    }
   ],
   "source": [
    "sname = 'Talha'\n",
    "reversed = \"\"\n",
    "\n",
    "for char in sname:\n",
    "    reversed = char + reversed\n",
    "\n",
    "print(\"Reversed string:\", reversed)"
   ]
  },
  {
   "cell_type": "markdown",
   "metadata": {},
   "source": [
    "##  Create a function that finds the factorial of a given number using a loop.\n"
   ]
  },
  {
   "cell_type": "code",
   "execution_count": 35,
   "metadata": {},
   "outputs": [],
   "source": [
    "\n"
   ]
  },
  {
   "cell_type": "markdown",
   "metadata": {},
   "source": [
    "## Write a Python program that counts the number of vowels in a string.\n",
    "\n",
    "\n"
   ]
  },
  {
   "cell_type": "code",
   "execution_count": 39,
   "metadata": {},
   "outputs": [
    {
     "name": "stdout",
     "output_type": "stream",
     "text": [
      "12\n"
     ]
    }
   ],
   "source": [
    "string = 'Islamia University Bahawalpur'\n",
    "total = 0\n",
    "\n",
    "for vowel in string:\n",
    "    if vowel.lower() in \"aeiou\":\n",
    "        total += 1\n",
    "\n",
    "print(total)\n"
   ]
  },
  {
   "cell_type": "markdown",
   "metadata": {},
   "source": [
    "##  Given a list of names, write a program to find the shortest and longest names in the list.\n"
   ]
  },
  {
   "cell_type": "code",
   "execution_count": 46,
   "metadata": {},
   "outputs": [
    {
     "name": "stdout",
     "output_type": "stream",
     "text": [
      "The Shortest Name is  Ali\n",
      "The longest name is  Husnian\n"
     ]
    }
   ],
   "source": [
    "name =['Talha', 'Amaad','Rehan','Ali','Husnian']\n",
    "short= name[0]\n",
    "Long=name[0]\n",
    "for names in name:\n",
    "  if len(names)< len(short):\n",
    "    short = names\n",
    "  if len(names)>len(Long):\n",
    "     Long= names\n",
    "\n",
    "print(\"The Shortest Name is \",short)\n",
    "print(\"The longest name is \",Long)\n"
   ]
  },
  {
   "cell_type": "markdown",
   "metadata": {},
   "source": [
    "## Implement a function that checks if a given word is a palindrome."
   ]
  },
  {
   "cell_type": "code",
   "execution_count": 53,
   "metadata": {},
   "outputs": [
    {
     "name": "stdout",
     "output_type": "stream",
     "text": [
      "The Given string is palindrome\n"
     ]
    }
   ],
   "source": [
    "sname = 'aaaa'\n",
    "reversed = \"\"\n",
    "ispalindrome = False\n",
    "\n",
    "for char in sname:\n",
    "    reversed = char + reversed\n",
    "    if reversed == sname:\n",
    "        ispalindrome=True\n",
    "if(ispalindrome):   \n",
    "  print(\"The Given string is palindrome\")\n",
    "else:\n",
    "  print(\"Given String is not Palindrome\")"
   ]
  },
  {
   "cell_type": "markdown",
   "metadata": {},
   "source": [
    "## Write a program that generates a list of Fibonacci numbers up to a specified limit"
   ]
  },
  {
   "cell_type": "code",
   "execution_count": null,
   "metadata": {},
   "outputs": [],
   "source": []
  },
  {
   "cell_type": "markdown",
   "metadata": {},
   "source": [
    "## Create a program that finds the intersection of two lists.\n"
   ]
  },
  {
   "cell_type": "code",
   "execution_count": 54,
   "metadata": {},
   "outputs": [
    {
     "name": "stdout",
     "output_type": "stream",
     "text": [
      "4\n"
     ]
    }
   ],
   "source": [
    "a=[4,6,7,8]\n",
    "b=[1,2,3,4]\n",
    "for i in a:\n",
    "    for j in b:\n",
    "        if i==j:\n",
    "            print(i)"
   ]
  },
  {
   "cell_type": "markdown",
   "metadata": {},
   "source": [
    "## Write a Python script that replaces all occurrences of a specific word in a text with another word."
   ]
  },
  {
   "cell_type": "code",
   "execution_count": 61,
   "metadata": {},
   "outputs": [
    {
     "name": "stdout",
     "output_type": "stream",
     "text": [
      "original text:\n",
      "Islamia university of Bahwalpur IUB\n",
      "Modified text:\n",
      "Islamia university of Bahwalpur Pakistan\n"
     ]
    }
   ],
   "source": [
    "text = \"Islamia university of Bahwalpur IUB\"\n",
    "old = \"IUB\"\n",
    "new = \"Pakistan\"\n",
    "\n",
    "modified = text.replace(old, new)\n",
    "print(\"original text:\")\n",
    "print(text)\n",
    "print(\"Modified text:\")\n",
    "print(modified)"
   ]
  },
  {
   "cell_type": "markdown",
   "metadata": {},
   "source": [
    "##  Create a program that sorts a list of strings in alphabetical order.\n"
   ]
  },
  {
   "cell_type": "code",
   "execution_count": null,
   "metadata": {},
   "outputs": [],
   "source": []
  },
  {
   "cell_type": "markdown",
   "metadata": {},
   "source": [
    "##  Write a Python function that accepts a list of integers and returns a new list with unique values (no duplicates)."
   ]
  },
  {
   "cell_type": "code",
   "execution_count": 1,
   "metadata": {},
   "outputs": [
    {
     "name": "stdout",
     "output_type": "stream",
     "text": [
      "Unique values:\n",
      "[70, 80, 20, 25, 60]\n"
     ]
    }
   ],
   "source": [
    "def unique(input_list):\n",
    "    unique_list = list(set(input_list))\n",
    "    return unique_list\n",
    "\n",
    "input_list = [20, 20, 25, 60, 70, 80]\n",
    "result = unique(input_list)\n",
    "\n",
    "print(\"Unique values:\")\n",
    "print(result)\n",
    "\n"
   ]
  }
 ],
 "metadata": {
  "kernelspec": {
   "display_name": "base",
   "language": "python",
   "name": "python3"
  },
  "language_info": {
   "codemirror_mode": {
    "name": "ipython",
    "version": 3
   },
   "file_extension": ".py",
   "mimetype": "text/x-python",
   "name": "python",
   "nbconvert_exporter": "python",
   "pygments_lexer": "ipython3",
   "version": "3.10.9"
  },
  "orig_nbformat": 4
 },
 "nbformat": 4,
 "nbformat_minor": 2
}
